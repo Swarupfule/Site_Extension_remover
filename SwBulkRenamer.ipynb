{
 "cells": [
  {
   "cell_type": "code",
   "execution_count": 1,
   "metadata": {},
   "outputs": [],
   "source": [
    "import os\n",
    "#os.rename(r'C:\\Users\\Swarup\\Desktop\\rename_it.txt',r'C:\\Users\\Swarup\\Desktop\\renamed.txt')"
   ]
  },
  {
   "cell_type": "code",
   "execution_count": 41,
   "metadata": {},
   "outputs": [],
   "source": [
    "path=r'D:\\video songs\\mom songs'\n"
   ]
  },
  {
   "cell_type": "code",
   "execution_count": 42,
   "metadata": {},
   "outputs": [],
   "source": []
  },
  {
   "cell_type": "code",
   "execution_count": 43,
   "metadata": {},
   "outputs": [],
   "source": [
    "def remove_site_extension(extension,path):\n",
    "    files = os.listdir(path)\n",
    "    for file in files:\n",
    "        if extension in file:\n",
    "            tmp=file.replace(extension,'')\n",
    "            t=path+\"\\\\\"+file\n",
    "            t2=t.replace(extension,'')\n",
    "            os.rename(t,t2)"
   ]
  },
  {
   "cell_type": "code",
   "execution_count": null,
   "metadata": {},
   "outputs": [],
   "source": []
  }
 ],
 "metadata": {
  "kernelspec": {
   "display_name": "Python 3",
   "language": "python",
   "name": "python3"
  },
  "language_info": {
   "codemirror_mode": {
    "name": "ipython",
    "version": 3
   },
   "file_extension": ".py",
   "mimetype": "text/x-python",
   "name": "python",
   "nbconvert_exporter": "python",
   "pygments_lexer": "ipython3",
   "version": "3.7.3"
  }
 },
 "nbformat": 4,
 "nbformat_minor": 2
}
